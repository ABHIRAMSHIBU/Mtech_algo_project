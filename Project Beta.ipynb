{
 "cells": [
  {
   "cell_type": "code",
   "execution_count": 65,
   "metadata": {
    "ExecuteTime": {
     "end_time": "2020-12-08T18:34:06.731096Z",
     "start_time": "2020-12-08T18:34:06.722872Z"
    }
   },
   "outputs": [],
   "source": [
    "class HashTable:\n",
    "    \"\"\"This is class is basically used to implement numeric hash table\"\"\"\n",
    "    def __init__(self,bins=4):\n",
    "        self.table={}\n",
    "        self.bins=bins\n",
    "        for i in range(0,bins): # basically insert empty list into each bins.\n",
    "            self.table[i]=[]\n",
    "    def insert(self,resID,Object):\n",
    "        \"\"\"Example insert(20,\"This is an object\")\n",
    "           This will insert the given object into hash table with index computed from the reservation id\n",
    "           Syntax is insert(resID,Object)\n",
    "           Return None\"\"\"\n",
    "        Id = resID%self.bins\n",
    "        hashTableMap={\"resID\":resID,\"Obj\":Object}\n",
    "        if(len(self.table[Id])==0): # Find and insert into the hash table as sorted.\n",
    "            self.table[Id].append(hashTableMap) # Append if northing in the list\n",
    "        else:\n",
    "            pos=0\n",
    "            for i in range(len(self.table[Id])): # Linear Search.. Change to binary Search in future\n",
    "                if(self.table[Id][i][\"resID\"]<resID):\n",
    "                    pos=i\n",
    "                else:\n",
    "                    break\n",
    "            self.table[Id].insert(pos+1,hashTableMap)\n",
    "    def get(self,resID):\n",
    "        \"\"\"Example get(20)\n",
    "           This will get an element from the hash table given the reservation id\n",
    "           Syntax is get(resID)\n",
    "           Returns Object\"\"\"\n",
    "        Id=resID%self.bins\n",
    "        if(len(self.table[Id])==0): # Find and return the values.\n",
    "            return None\n",
    "        else:\n",
    "            for i in range(len(self.table[Id])): # Linear Search.. Change to binary Search in future\n",
    "                if(self.table[Id][i][\"resID\"]==resID):\n",
    "                    return self.table[Id][i][\"Obj\"]\n",
    "    def delete(self,resID):\n",
    "        \"\"\"Example delete(20)\n",
    "           This will delete the element from the hash table as well as return the object\n",
    "           Syntax is delete(resID)\n",
    "           Returns Object\"\"\"\n",
    "        Id=resID%self.bins\n",
    "        if(len(self.table[Id])==0):\n",
    "            return False\n",
    "        else:\n",
    "            for i in range(len(self.table[Id])): # Linear Search.. Change to binary Search in future\n",
    "                if(self.table[Id][i][\"resID\"]==resID):\n",
    "                    return self.table[Id].pop(i)[\"Obj\"]\n",
    "    def getTable(self):\n",
    "        \"\"\"DEBUG ONLY\n",
    "           WILL RETURN RAW TABLE\"\"\"\n",
    "        return self.table\n",
    "    def getListID(self,resID):\n",
    "        \"\"\"DEBUG ONLY\n",
    "           WILL RETURN RAW LIST\"\"\"\n",
    "        return self.table[resID%self.bins]\n",
    "    #def get(self,resID,Object):\n",
    "    #    Id "
   ]
  },
  {
   "cell_type": "code",
   "execution_count": 59,
   "metadata": {
    "ExecuteTime": {
     "end_time": "2020-12-08T18:28:53.675323Z",
     "start_time": "2020-12-08T18:28:53.673327Z"
    }
   },
   "outputs": [],
   "source": [
    "ht=HashTable(5)"
   ]
  },
  {
   "cell_type": "code",
   "execution_count": 60,
   "metadata": {
    "ExecuteTime": {
     "end_time": "2020-12-08T18:28:54.116938Z",
     "start_time": "2020-12-08T18:28:54.113766Z"
    }
   },
   "outputs": [
    {
     "data": {
      "text/plain": [
       "<__main__.HashTable at 0x7f6dd90b2550>"
      ]
     },
     "execution_count": 60,
     "metadata": {},
     "output_type": "execute_result"
    }
   ],
   "source": [
    "ht"
   ]
  },
  {
   "cell_type": "code",
   "execution_count": 61,
   "metadata": {
    "ExecuteTime": {
     "end_time": "2020-12-08T18:28:54.430691Z",
     "start_time": "2020-12-08T18:28:54.427196Z"
    }
   },
   "outputs": [],
   "source": [
    "for i in range(50):\n",
    "    try:\n",
    "        ht.insert(i,\"Test Object \"+str(i))\n",
    "    except Exception as e:\n",
    "        print(i)\n",
    "        raise e"
   ]
  },
  {
   "cell_type": "code",
   "execution_count": 62,
   "metadata": {
    "ExecuteTime": {
     "end_time": "2020-12-08T18:28:55.865767Z",
     "start_time": "2020-12-08T18:28:55.851737Z"
    }
   },
   "outputs": [
    {
     "data": {
      "text/plain": [
       "{0: [{'resID': 0, 'Obj': 'Test Object 0'},\n",
       "  {'resID': 5, 'Obj': 'Test Object 5'},\n",
       "  {'resID': 10, 'Obj': 'Test Object 10'},\n",
       "  {'resID': 15, 'Obj': 'Test Object 15'},\n",
       "  {'resID': 20, 'Obj': 'Test Object 20'},\n",
       "  {'resID': 25, 'Obj': 'Test Object 25'},\n",
       "  {'resID': 30, 'Obj': 'Test Object 30'},\n",
       "  {'resID': 35, 'Obj': 'Test Object 35'},\n",
       "  {'resID': 40, 'Obj': 'Test Object 40'},\n",
       "  {'resID': 45, 'Obj': 'Test Object 45'}],\n",
       " 1: [{'resID': 1, 'Obj': 'Test Object 1'},\n",
       "  {'resID': 6, 'Obj': 'Test Object 6'},\n",
       "  {'resID': 11, 'Obj': 'Test Object 11'},\n",
       "  {'resID': 16, 'Obj': 'Test Object 16'},\n",
       "  {'resID': 21, 'Obj': 'Test Object 21'},\n",
       "  {'resID': 26, 'Obj': 'Test Object 26'},\n",
       "  {'resID': 31, 'Obj': 'Test Object 31'},\n",
       "  {'resID': 36, 'Obj': 'Test Object 36'},\n",
       "  {'resID': 41, 'Obj': 'Test Object 41'},\n",
       "  {'resID': 46, 'Obj': 'Test Object 46'}],\n",
       " 2: [{'resID': 2, 'Obj': 'Test Object 2'},\n",
       "  {'resID': 7, 'Obj': 'Test Object 7'},\n",
       "  {'resID': 12, 'Obj': 'Test Object 12'},\n",
       "  {'resID': 17, 'Obj': 'Test Object 17'},\n",
       "  {'resID': 22, 'Obj': 'Test Object 22'},\n",
       "  {'resID': 27, 'Obj': 'Test Object 27'},\n",
       "  {'resID': 32, 'Obj': 'Test Object 32'},\n",
       "  {'resID': 37, 'Obj': 'Test Object 37'},\n",
       "  {'resID': 42, 'Obj': 'Test Object 42'},\n",
       "  {'resID': 47, 'Obj': 'Test Object 47'}],\n",
       " 3: [{'resID': 3, 'Obj': 'Test Object 3'},\n",
       "  {'resID': 8, 'Obj': 'Test Object 8'},\n",
       "  {'resID': 13, 'Obj': 'Test Object 13'},\n",
       "  {'resID': 18, 'Obj': 'Test Object 18'},\n",
       "  {'resID': 23, 'Obj': 'Test Object 23'},\n",
       "  {'resID': 28, 'Obj': 'Test Object 28'},\n",
       "  {'resID': 33, 'Obj': 'Test Object 33'},\n",
       "  {'resID': 38, 'Obj': 'Test Object 38'},\n",
       "  {'resID': 43, 'Obj': 'Test Object 43'},\n",
       "  {'resID': 48, 'Obj': 'Test Object 48'}],\n",
       " 4: [{'resID': 4, 'Obj': 'Test Object 4'},\n",
       "  {'resID': 9, 'Obj': 'Test Object 9'},\n",
       "  {'resID': 14, 'Obj': 'Test Object 14'},\n",
       "  {'resID': 19, 'Obj': 'Test Object 19'},\n",
       "  {'resID': 24, 'Obj': 'Test Object 24'},\n",
       "  {'resID': 29, 'Obj': 'Test Object 29'},\n",
       "  {'resID': 34, 'Obj': 'Test Object 34'},\n",
       "  {'resID': 39, 'Obj': 'Test Object 39'},\n",
       "  {'resID': 44, 'Obj': 'Test Object 44'},\n",
       "  {'resID': 49, 'Obj': 'Test Object 49'}]}"
      ]
     },
     "execution_count": 62,
     "metadata": {},
     "output_type": "execute_result"
    }
   ],
   "source": [
    "ht.getTable()"
   ]
  },
  {
   "cell_type": "code",
   "execution_count": 63,
   "metadata": {
    "ExecuteTime": {
     "end_time": "2020-12-08T18:28:58.784625Z",
     "start_time": "2020-12-08T18:28:58.782230Z"
    }
   },
   "outputs": [
    {
     "data": {
      "text/plain": [
       "'Test Object 10'"
      ]
     },
     "execution_count": 63,
     "metadata": {},
     "output_type": "execute_result"
    }
   ],
   "source": [
    "ht.get(10)"
   ]
  },
  {
   "cell_type": "code",
   "execution_count": 64,
   "metadata": {
    "ExecuteTime": {
     "end_time": "2020-12-08T18:28:59.333492Z",
     "start_time": "2020-12-08T18:28:59.331007Z"
    }
   },
   "outputs": [
    {
     "data": {
      "text/plain": [
       "'Test Object 10'"
      ]
     },
     "execution_count": 64,
     "metadata": {},
     "output_type": "execute_result"
    }
   ],
   "source": [
    "ht.delete(10)"
   ]
  },
  {
   "cell_type": "code",
   "execution_count": null,
   "metadata": {},
   "outputs": [],
   "source": []
  }
 ],
 "metadata": {
  "kernelspec": {
   "display_name": "Python 3",
   "language": "python",
   "name": "python3"
  },
  "language_info": {
   "codemirror_mode": {
    "name": "ipython",
    "version": 3
   },
   "file_extension": ".py",
   "mimetype": "text/x-python",
   "name": "python",
   "nbconvert_exporter": "python",
   "pygments_lexer": "ipython3",
   "version": "3.9.0"
  },
  "varInspector": {
   "cols": {
    "lenName": 16,
    "lenType": 16,
    "lenVar": 40
   },
   "kernels_config": {
    "python": {
     "delete_cmd_postfix": "",
     "delete_cmd_prefix": "del ",
     "library": "var_list.py",
     "varRefreshCmd": "print(var_dic_list())"
    },
    "r": {
     "delete_cmd_postfix": ") ",
     "delete_cmd_prefix": "rm(",
     "library": "var_list.r",
     "varRefreshCmd": "cat(var_dic_list()) "
    }
   },
   "types_to_exclude": [
    "module",
    "function",
    "builtin_function_or_method",
    "instance",
    "_Feature"
   ],
   "window_display": false
  }
 },
 "nbformat": 4,
 "nbformat_minor": 4
}
