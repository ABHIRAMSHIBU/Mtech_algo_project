{
 "cells": [
  {
   "cell_type": "code",
   "execution_count": 1,
   "metadata": {},
   "outputs": [],
   "source": [
    "import socket\n",
    "UDP_IP = \"127.0.0.1\"\n",
    "UDP_PORT = 5005\n",
    "\n",
    "    \n"
   ]
  },
  {
   "cell_type": "code",
   "execution_count": null,
   "metadata": {},
   "outputs": [
    {
     "name": "stdout",
     "output_type": "stream",
     "text": [
      "received message: b'njnana'\n",
      "received message: b'njnanallo'\n"
     ]
    }
   ],
   "source": [
    "class udp:\n",
    "    def _init_():\n",
    "        h=socket.socket(socket.AF_INET,socket.SOCK_DGRAM)\n",
    "        h.bind((UDP_IP, UDP_PORT))\n",
    "        while True :\n",
    "            data, addr = h.recvfrom(1024) # buffer size is 1024 bytes\n",
    "            print(\"received message: %s\" % data)\n",
    "\n",
    "udp._init_()\n",
    "\n"
   ]
  }
 ],
 "metadata": {
  "kernelspec": {
   "display_name": "Python 3",
   "language": "python",
   "name": "python3"
  },
  "language_info": {
   "codemirror_mode": {
    "name": "ipython",
    "version": 3
   },
   "file_extension": ".py",
   "mimetype": "text/x-python",
   "name": "python",
   "nbconvert_exporter": "python",
   "pygments_lexer": "ipython3",
   "version": "3.8.6"
  }
 },
 "nbformat": 4,
 "nbformat_minor": 4
}
