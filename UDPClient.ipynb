{
 "cells": [
  {
   "cell_type": "code",
   "execution_count": 34,
   "metadata": {},
   "outputs": [
    {
     "name": "stdout",
     "output_type": "stream",
     "text": [
      "UDP target IP: 127.0.0.1\n",
      "UDP target port: 5005\n"
     ]
    }
   ],
   "source": [
    "import socket\n",
    "UDP_IP = \"127.0.0.1\"\n",
    "UDP_PORT = 5005\n",
    "\n",
    "print(\"UDP target IP: %s\" % UDP_IP)\n",
    "print(\"UDP target port: %s\" % UDP_PORT)\n",
    "\n"
   ]
  },
  {
   "cell_type": "code",
   "execution_count": 45,
   "metadata": {},
   "outputs": [],
   "source": [
    "class udp:\n",
    "    def _init_():\n",
    "        socket.socket(socket.AF_INET,socket.SOCK_DGRAM)\n",
    "    def send(UDP_IP, UDP_PORT,MESSAGE):\n",
    "        sock.sendto(MESSAGE, (UDP_IP, UDP_PORT))\n",
    "        \n",
    "udp._init_()\n",
    "\n",
    "udp.send(UDP_IP, UDP_PORT,b\"njnana\")\n",
    "udp.send(UDP_IP, UDP_PORT,b\"njnanallo\")"
   ]
  }
 ],
 "metadata": {
  "kernelspec": {
   "display_name": "Python 3",
   "language": "python",
   "name": "python3"
  },
  "language_info": {
   "codemirror_mode": {
    "name": "ipython",
    "version": 3
   },
   "file_extension": ".py",
   "mimetype": "text/x-python",
   "name": "python",
   "nbconvert_exporter": "python",
   "pygments_lexer": "ipython3",
   "version": "3.8.6"
  }
 },
 "nbformat": 4,
 "nbformat_minor": 4
}
